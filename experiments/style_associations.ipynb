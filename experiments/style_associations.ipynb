{
 "cells": [
  {
   "cell_type": "code",
   "execution_count": 1,
   "metadata": {},
   "outputs": [],
   "source": [
    "import json\n",
    "with open(\".\\\\data\\\\file_references.json\") as fd:\n",
    "    repos = json.load(fd)\n",
    "\n",
    "def get_element(tag):\n",
    "    elements = []\n",
    "    for parent in tag.parents:\n",
    "        if parent.name is None:\n",
    "            break\n",
    "        siblings = [sib for sib in parent.children if sib.name == tag.name]\n",
    "        if len(siblings) > 1:\n",
    "            elements.append(f'{tag.name}[{siblings.index(tag) + 1}]')\n",
    "        else:\n",
    "            elements.append(tag.name)\n",
    "        tag = parent\n",
    "    elements.reverse()\n",
    "    return '/' + '/'.join(elements)\n",
    "\n"
   ]
  },
  {
   "cell_type": "code",
   "execution_count": 2,
   "metadata": {},
   "outputs": [
    {
     "name": "stdout",
     "output_type": "stream",
     "text": [
      "\n",
      "[181] : https://raw.githubusercontent.com/swimlane/ngx-charts/ff89cfe08ada08ab898083be76cd0a6cc1adfdb2/src/app/app.component.html\n",
      "/main/div[1]/div : position: absolute; top: 50px; left: 50px; right: 50px; bottom: 50px\n",
      "/main/div[1]/div/div[2]/ngx-charts-line-chart : position: static; display: inline-block; transform: none\n",
      "/main/div[1]/div/div[2]/ngx-charts-polar-chart : position: static; display: inline-block; transform: none\n",
      "/main/div[1]/div/div[3] : padding: 10px; border: 1px solid white\n",
      "/main/div[1]/div/div[3]/h4 : text-align: center\n",
      "/main/div[1]/div/div[3]/div : height: 17px; font-size: 12px\n",
      "/main/div[1]/div/div[4] : padding: 10px; border: 1px solid white\n",
      "/main/div[1]/div/div[4]/div/button : float: right\n",
      "/main/div[2]/div : margin: 20px\n",
      "/main/div[2]/div/h3[3] : cursor: pointer\n",
      "/main/div[2]/div/div[1] : margin-left: 10px\n",
      "/main/div[2]/div/div[2]/h3 : cursor: pointer\n",
      "/main/div[2]/div/div[2]/div : margin-left: 10px\n",
      "/main/div[2]/div/h3[4] : cursor: pointer\n",
      "/main/div[2]/div/select[3] : margin-left: 10px\n",
      "/main/div[2]/div/select[4] : margin-left: 10px\n",
      "/main/div[2]/div/div[3] : margin-left: 10px\n",
      "/main/div[2]/div/h3[5] : cursor: pointer\n",
      "/main/div[2]/div/div[4] : margin-left: 10px\n",
      "/main/div[2]/div/div[4]/div[18]/select : margin-left: 10px\n"
     ]
    }
   ],
   "source": [
    "import requests\n",
    "from bs4 import BeautifulSoup\n",
    "import json\n",
    "\n",
    "with open(\"./data/file_references.json\", \"r\") as fd:\n",
    "    repos = json.load(fd)\n",
    "\n",
    "for idx in range(181,182):\n",
    "    url = repos[idx]\n",
    "    style_assoc = {}\n",
    "    response = requests.get(url)\n",
    "        # Check if the request was successful\n",
    "    if response.status_code == 200:\n",
    "        soup = BeautifulSoup(response.text, 'html.parser')\n",
    "        tags_with_specific_property = soup.find_all(attrs={\"style\": True})\n",
    "        if tags_with_specific_property:\n",
    "            print(f\"\\n[{idx}] : {url}\")\n",
    "        for tag in tags_with_specific_property:\n",
    "            xpath = get_element(tag)\n",
    "            print(f\"{xpath} : {tag['style'].strip()}\")\n",
    "            for s in tag['style'].strip().split(\";\"):\n",
    "                style_assoc.setdefault(get_element(tag),[]).append(s)\n",
    "        idx = idx + 1\n",
    "    else:\n",
    "        print(f\"Failed to fetch the URL. Status code: {response.status_code}\")\n",
    "\n",
    "\n"
   ]
  },
  {
   "cell_type": "markdown",
   "metadata": {},
   "source": [
    "Verify that the set is correct"
   ]
  },
  {
   "cell_type": "code",
   "execution_count": 3,
   "metadata": {},
   "outputs": [
    {
     "name": "stdout",
     "output_type": "stream",
     "text": [
      "/main/div[1]/div : ['position: absolute', ' top: 50px', ' left: 50px', ' right: 50px', ' bottom: 50px']\n",
      "/main/div[1]/div/div[2]/ngx-charts-line-chart : ['position: static', ' display: inline-block', ' transform: none']\n",
      "/main/div[1]/div/div[2]/ngx-charts-polar-chart : ['position: static', ' display: inline-block', ' transform: none']\n",
      "/main/div[1]/div/div[3] : ['padding: 10px', ' border: 1px solid white']\n",
      "/main/div[1]/div/div[3]/div : ['height: 17px', ' font-size: 12px']\n",
      "/main/div[1]/div/div[3]/h4 : ['text-align: center']\n",
      "/main/div[1]/div/div[4] : ['padding: 10px', ' border: 1px solid white']\n",
      "/main/div[1]/div/div[4]/div/button : ['float: right']\n",
      "/main/div[2]/div : ['margin: 20px']\n",
      "/main/div[2]/div/div[1] : ['margin-left: 10px']\n",
      "/main/div[2]/div/div[2]/div : ['margin-left: 10px']\n",
      "/main/div[2]/div/div[2]/h3 : ['cursor: pointer']\n",
      "/main/div[2]/div/div[3] : ['margin-left: 10px']\n",
      "/main/div[2]/div/div[4] : ['margin-left: 10px']\n",
      "/main/div[2]/div/div[4]/div[18]/select : ['margin-left: 10px']\n",
      "/main/div[2]/div/h3[3] : ['cursor: pointer']\n",
      "/main/div[2]/div/h3[4] : ['cursor: pointer']\n",
      "/main/div[2]/div/h3[5] : ['cursor: pointer']\n",
      "/main/div[2]/div/select[3] : ['margin-left: 10px']\n",
      "/main/div[2]/div/select[4] : ['margin-left: 10px']\n"
     ]
    }
   ],
   "source": [
    "import collections\n",
    "od = collections.OrderedDict(sorted(style_assoc.items()))\n",
    "for k , v in od.items():\n",
    "    print(f\"{k} : {v}\")\n",
    "\n",
    "\n",
    "\n"
   ]
  },
  {
   "cell_type": "code",
   "execution_count": 26,
   "metadata": {},
   "outputs": [
    {
     "name": "stdout",
     "output_type": "stream",
     "text": [
      "position: absolute : ['/main/div[1]/div']\n",
      "top: 50px : ['/main/div[1]/div']\n",
      "left: 50px : ['/main/div[1]/div']\n",
      "right: 50px : ['/main/div[1]/div']\n",
      "bottom: 50px : ['/main/div[1]/div']\n",
      "height: 17px : ['/main/div[1]/div/div[3]/div']\n",
      "font-size: 12px : ['/main/div[1]/div/div[3]/div']\n",
      "text-align: center : ['/main/div[1]/div/div[3]/h4']\n",
      "float: right : ['/main/div[1]/div/div[4]/div/button']\n",
      "margin: 20px : ['/main/div[2]/div']\n",
      "class-1 : ['bottom: 50px', 'left: 50px', 'position: absolute', 'right: 50px', 'top: 50px']\n",
      "class-2 : ['font-size: 12px', 'height: 17px']\n",
      "class-3 : ['text-align: center']\n",
      "class-4 : ['float: right']\n",
      "class-5 : ['margin: 20px']\n",
      "class-6 : ['display: inline-block', 'position: static', 'transform: none']\n",
      "class-8 : ['border: 1px solid white', 'padding: 10px']\n",
      "class-10 : ['cursor: pointer']\n",
      "class-14 : ['margin-left: 10px']\n"
     ]
    }
   ],
   "source": [
    "# Invert the dictionary.\n",
    "from collections import defaultdict\n",
    "\n",
    "inverted_dictionary = defaultdict(list)\n",
    "\n",
    "for tag_position , styles in od.items():\n",
    "    for style in styles:\n",
    "        inverted_dictionary[style.strip()].append(tag_position)\n",
    "\n",
    "sorted_inverted_dict = dict(sorted(inverted_dictionary.items(), key=lambda item: len(item[1]), reverse=False))\n",
    "\n",
    "grouped_1_len = defaultdict(list)\n",
    "\n",
    "for k , v in sorted_inverted_dict.items():\n",
    "    if len(v) <= 1:\n",
    "        print(f\"{k} : {v}\")\n",
    "\n",
    "def generate_css_classes(mapping):\n",
    "    # Group elements by their CSS properties\n",
    "    grouped_properties = defaultdict(list)\n",
    "    for css_property, elements in mapping.items():\n",
    "        for element in elements:\n",
    "            grouped_properties[element].append(css_property)\n",
    "    \n",
    "    # Generate CSS classes\n",
    "    css_classes = {}\n",
    "    for i, (element, properties) in enumerate(grouped_properties.items()):\n",
    "        class_name = f'class-{i+1}'\n",
    "        css_classes[class_name] = properties\n",
    "\n",
    "    return css_classes\n",
    "\n",
    "def merge_identical_classes(class_mappings):\n",
    "    property_to_class = defaultdict(list)\n",
    "\n",
    "    # Map property sets to class names\n",
    "    for class_name, properties in class_mappings.items():\n",
    "        property_key = tuple(sorted(properties))\n",
    "        property_to_class[property_key].append(class_name)\n",
    "\n",
    "    # Create a new dictionary to store the merged classes\n",
    "    merged_classes = {}\n",
    "    for properties, class_names in property_to_class.items():\n",
    "        if len(class_names) > 1:\n",
    "            new_class_name = class_names[0]\n",
    "            merged_classes[new_class_name] = list(properties)\n",
    "        else:\n",
    "            merged_classes[class_names[0]] = list(properties)\n",
    "\n",
    "    return merged_classes\n",
    "\n",
    "css_classes = generate_css_classes(sorted_inverted_dict)\n",
    "css_classes = merge_identical_classes(css_classes)\n",
    "for k , v in css_classes.items():\n",
    "    print(f\"{k} : {v}\")\n"
   ]
  }
 ],
 "metadata": {
  "kernelspec": {
   "display_name": "Python 3",
   "language": "python",
   "name": "python3"
  },
  "language_info": {
   "codemirror_mode": {
    "name": "ipython",
    "version": 3
   },
   "file_extension": ".py",
   "mimetype": "text/x-python",
   "name": "python",
   "nbconvert_exporter": "python",
   "pygments_lexer": "ipython3",
   "version": "3.10.0"
  }
 },
 "nbformat": 4,
 "nbformat_minor": 2
}
