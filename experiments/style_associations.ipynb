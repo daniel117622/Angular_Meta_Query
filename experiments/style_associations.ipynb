{
 "cells": [
  {
   "cell_type": "code",
   "execution_count": 1,
   "metadata": {},
   "outputs": [],
   "source": [
    "import json\n",
    "with open(\".\\\\data\\\\file_references.json\") as fd:\n",
    "    repos = json.load(fd)\n",
    "\n",
    "def get_element(tag):\n",
    "    elements = []\n",
    "    for parent in tag.parents:\n",
    "        if parent.name is None:\n",
    "            break\n",
    "        siblings = [sib for sib in parent.children if sib.name == tag.name]\n",
    "        if len(siblings) > 1:\n",
    "            elements.append(f'{tag.name}[{siblings.index(tag) + 1}]')\n",
    "        else:\n",
    "            elements.append(tag.name)\n",
    "        tag = parent\n",
    "    elements.reverse()\n",
    "    return '/' + '/'.join(elements)\n",
    "\n"
   ]
  },
  {
   "cell_type": "code",
   "execution_count": 32,
   "metadata": {},
   "outputs": [
    {
     "name": "stdout",
     "output_type": "stream",
     "text": [
      "\n",
      "[181] : https://raw.githubusercontent.com/swimlane/ngx-charts/ff89cfe08ada08ab898083be76cd0a6cc1adfdb2/src/app/app.component.html\n",
      "/ion-grid : max-width: 500px; min-width: fit-content;\n",
      "/ion-grid/ion-row/ng-container/ion-col : min-width: fit-content;\n",
      "/ion-grid/ion-row/ng-container/ion-col/a/img : min-height: 36px; min-width: 36px;\n"
     ]
    }
   ],
   "source": [
    "import requests\n",
    "from bs4 import BeautifulSoup\n",
    "import json\n",
    "\n",
    "with open(\"./data/file_references.json\", \"r\") as fd:\n",
    "    repos = json.load(fd)\n",
    "\n",
    "for idx in range(181,182):\n",
    "    url = repos[idx]\n",
    "    style_assoc = {}\n",
    "    response = requests.get(\"https://raw.githubusercontent.com/jernesto91/sabores2024-catalogo/master/src/app/components/social-networks/social-networks.component.html?token=GHSAT0AAAAAACR7O5OJTOZ5WNOMFM6LFPN2ZSU6AHA\")\n",
    "        # Check if the request was successful\n",
    "    if response.status_code == 200:\n",
    "        soup = BeautifulSoup(response.text, 'html.parser')\n",
    "        tags_with_specific_property = soup.find_all(attrs={\"style\": True})\n",
    "        if tags_with_specific_property:\n",
    "            print(f\"\\n[{idx}] : {url}\")\n",
    "        for tag in tags_with_specific_property:\n",
    "            xpath = get_element(tag)\n",
    "            print(f\"{xpath} : {tag['style'].strip()}\")\n",
    "            for s in tag['style'].strip().split(\";\"):\n",
    "                style_assoc.setdefault(get_element(tag),[]).append(s)\n",
    "        idx = idx + 1\n",
    "    else:\n",
    "        print(f\"Failed to fetch the URL. Status code: {response.status_code}\")\n",
    "\n",
    "\n"
   ]
  },
  {
   "cell_type": "markdown",
   "metadata": {},
   "source": [
    "Verify that the set is correct"
   ]
  },
  {
   "cell_type": "code",
   "execution_count": 33,
   "metadata": {},
   "outputs": [
    {
     "name": "stdout",
     "output_type": "stream",
     "text": [
      "/ion-grid : ['max-width: 500px', ' min-width: fit-content', '']\n",
      "/ion-grid/ion-row/ng-container/ion-col : ['min-width: fit-content', '']\n",
      "/ion-grid/ion-row/ng-container/ion-col/a/img : ['min-height: 36px', ' min-width: 36px', '']\n"
     ]
    }
   ],
   "source": [
    "import collections\n",
    "od = collections.OrderedDict(sorted(style_assoc.items()))\n",
    "for k , v in od.items():\n",
    "    print(f\"{k} : {v}\")\n",
    "\n",
    "\n",
    "\n"
   ]
  },
  {
   "cell_type": "code",
   "execution_count": 36,
   "metadata": {},
   "outputs": [
    {
     "name": "stdout",
     "output_type": "stream",
     "text": [
      "max-width: 500px : ['/ion-grid']\n",
      "min-height: 36px : ['/ion-grid/ion-row/ng-container/ion-col/a/img']\n",
      "min-width: 36px : ['/ion-grid/ion-row/ng-container/ion-col/a/img']\n",
      "class-1 : ['max-width: 500px', 'min-width: fit-content']\n",
      "class-2 : ['min-height: 36px', 'min-width: 36px']\n",
      "class-3 : ['min-width: fit-content']\n"
     ]
    }
   ],
   "source": [
    "# Invert the dictionary.\n",
    "from collections import defaultdict\n",
    "from typing import Dict, List, DefaultDict\n",
    "\n",
    "inverted_dictionary: DefaultDict[str, List[str]] = defaultdict(list)\n",
    "\n",
    "for tag_position, styles in od.items():\n",
    "    for style in styles:\n",
    "        if len(style.strip()) >= 1:\n",
    "            inverted_dictionary[style.strip()].append(tag_position)\n",
    "\n",
    "sorted_inverted_dict: Dict[str, List[str]] = dict(\n",
    "    sorted(inverted_dictionary.items(), key=lambda item: len(item[1]), reverse=False)\n",
    ")\n",
    "\n",
    "grouped_1_len: DefaultDict[str, List[str]] = defaultdict(list)\n",
    "\n",
    "for k, v in sorted_inverted_dict.items():\n",
    "    if len(v) <= 1:\n",
    "        print(f\"{k} : {v}\")\n",
    "\n",
    "def generate_css_classes(mapping: Dict[str, List[str]]) -> Dict[str, List[str]]:\n",
    "    # Group elements by their CSS properties\n",
    "    grouped_properties: DefaultDict[str, List[str]] = defaultdict(list)\n",
    "    for css_property, elements in mapping.items():\n",
    "        for element in elements:\n",
    "            grouped_properties[element].append(css_property)\n",
    "    \n",
    "    # Generate CSS classes\n",
    "    css_classes: Dict[str, List[str]] = {}\n",
    "    for i, (element, properties) in enumerate(grouped_properties.items()):\n",
    "        class_name = f'class-{i+1}'\n",
    "        css_classes[class_name] = properties\n",
    "\n",
    "    return css_classes\n",
    "\n",
    "def merge_identical_classes(class_mappings: Dict[str, List[str]]) -> Dict[str, List[str]]:\n",
    "    property_to_class: DefaultDict[tuple, List[str]] = defaultdict(list)\n",
    "\n",
    "    # Map property sets to class names\n",
    "    for class_name, properties in class_mappings.items():\n",
    "        property_key = tuple(sorted(properties))\n",
    "        property_to_class[property_key].append(class_name)\n",
    "\n",
    "    # Create a new dictionary to store the merged classes\n",
    "    merged_classes: Dict[str, List[str]] = {}\n",
    "    for properties, class_names in property_to_class.items():\n",
    "        if len(class_names) > 1:\n",
    "            new_class_name = class_names[0]\n",
    "            merged_classes[new_class_name] = list(properties)\n",
    "        else:\n",
    "            merged_classes[class_names[0]] = list(properties)\n",
    "\n",
    "    return merged_classes\n",
    "\n",
    "css_classes = generate_css_classes(sorted_inverted_dict)\n",
    "css_classes = merge_identical_classes(css_classes)\n",
    "\n",
    "for k, v in css_classes.items():\n",
    "    print(f\"{k} : {v}\")"
   ]
  }
 ],
 "metadata": {
  "kernelspec": {
   "display_name": "Python 3",
   "language": "python",
   "name": "python3"
  },
  "language_info": {
   "codemirror_mode": {
    "name": "ipython",
    "version": 3
   },
   "file_extension": ".py",
   "mimetype": "text/x-python",
   "name": "python",
   "nbconvert_exporter": "python",
   "pygments_lexer": "ipython3",
   "version": "3.10.0"
  }
 },
 "nbformat": 4,
 "nbformat_minor": 2
}
